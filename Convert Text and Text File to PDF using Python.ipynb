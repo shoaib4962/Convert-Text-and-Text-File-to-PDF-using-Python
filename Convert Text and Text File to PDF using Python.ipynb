{
 "cells": [
  {
   "cell_type": "code",
   "execution_count": 3,
   "metadata": {},
   "outputs": [
    {
     "data": {
      "text/plain": [
       "''"
      ]
     },
     "execution_count": 3,
     "metadata": {},
     "output_type": "execute_result"
    }
   ],
   "source": [
    "# Python program to create \n",
    "# a pdf file \n",
    "\n",
    "\n",
    "from fpdf import FPDF \n",
    "\n",
    "\n",
    "# save FPDF() class into a \n",
    "# variable pdf \n",
    "pdf = FPDF() \n",
    "\n",
    "# Add a page \n",
    "pdf.add_page() \n",
    "\n",
    "# set style and size of font \n",
    "# that you want in the pdf \n",
    "pdf.set_font(\"Arial\", size = 15) \n",
    "\n",
    "# create a cell \n",
    "pdf.cell(200, 10, txt = \"GeeksforGeeks\", \n",
    "\t\tln = 1, align = 'C') \n",
    "\n",
    "# add another cell \n",
    "pdf.cell(200, 10, txt = \"A Computer Science portal for geeks.\", \n",
    "\t\tln = 2, align = 'C') \n",
    "\n",
    "# save the pdf with name .pdf \n",
    "pdf.output(\"GFG.pdf\") \n"
   ]
  },
  {
   "cell_type": "markdown",
   "metadata": {},
   "source": [
    "# Converting text file to PDF\n",
    "Now if we want to make the above program more advance what we can do is that from a given text file extract the data using file handling and then insert it into the pdf file. The approach is all same as above, one thing you have to do is extract the data from a text file using file handling"
   ]
  },
  {
   "cell_type": "code",
   "execution_count": 4,
   "metadata": {},
   "outputs": [
    {
     "ename": "FileNotFoundError",
     "evalue": "[Errno 2] No such file or directory: 'myfile.txt'",
     "output_type": "error",
     "traceback": [
      "\u001b[1;31m---------------------------------------------------------------------------\u001b[0m",
      "\u001b[1;31mFileNotFoundError\u001b[0m                         Traceback (most recent call last)",
      "\u001b[1;32m<ipython-input-4-c09afd8b77ac>\u001b[0m in \u001b[0;36m<module>\u001b[1;34m\u001b[0m\n\u001b[0;32m     17\u001b[0m \u001b[1;33m\u001b[0m\u001b[0m\n\u001b[0;32m     18\u001b[0m \u001b[1;31m# open the text file in read mode\u001b[0m\u001b[1;33m\u001b[0m\u001b[1;33m\u001b[0m\u001b[1;33m\u001b[0m\u001b[0m\n\u001b[1;32m---> 19\u001b[1;33m \u001b[0mf\u001b[0m \u001b[1;33m=\u001b[0m \u001b[0mopen\u001b[0m\u001b[1;33m(\u001b[0m\u001b[1;34m\"myfile.txt\"\u001b[0m\u001b[1;33m,\u001b[0m \u001b[1;34m\"r\"\u001b[0m\u001b[1;33m)\u001b[0m\u001b[1;33m\u001b[0m\u001b[1;33m\u001b[0m\u001b[0m\n\u001b[0m\u001b[0;32m     20\u001b[0m \u001b[1;33m\u001b[0m\u001b[0m\n\u001b[0;32m     21\u001b[0m \u001b[1;31m# insert the texts in pdf\u001b[0m\u001b[1;33m\u001b[0m\u001b[1;33m\u001b[0m\u001b[1;33m\u001b[0m\u001b[0m\n",
      "\u001b[1;31mFileNotFoundError\u001b[0m: [Errno 2] No such file or directory: 'myfile.txt'"
     ]
    }
   ],
   "source": [
    "# Python program to convert \n",
    "# text file to pdf file \n",
    "\n",
    "\n",
    "from fpdf import FPDF \n",
    "\n",
    "# save FPDF() class into \n",
    "# a variable pdf \n",
    "pdf = FPDF() \n",
    "\n",
    "# Add a page \n",
    "pdf.add_page() \n",
    "\n",
    "# set style and size of font \n",
    "# that you want in the pdf \n",
    "pdf.set_font(\"Arial\", size = 15) \n",
    "\n",
    "# open the text file in read mode \n",
    "f = open(\"myfile.txt\", \"r\") \n",
    "\n",
    "# insert the texts in pdf \n",
    "for x in f: \n",
    "\tpdf.cell(200, 10, txt = x, ln = 1, align = 'C') \n",
    "\n",
    "# save the pdf with name .pdf \n",
    "pdf.output(\"mygfg.pdf\") \n"
   ]
  },
  {
   "cell_type": "code",
   "execution_count": null,
   "metadata": {},
   "outputs": [],
   "source": []
  }
 ],
 "metadata": {
  "kernelspec": {
   "display_name": "Python 3",
   "language": "python",
   "name": "python3"
  },
  "language_info": {
   "codemirror_mode": {
    "name": "ipython",
    "version": 3
   },
   "file_extension": ".py",
   "mimetype": "text/x-python",
   "name": "python",
   "nbconvert_exporter": "python",
   "pygments_lexer": "ipython3",
   "version": "3.7.4"
  }
 },
 "nbformat": 4,
 "nbformat_minor": 2
}
